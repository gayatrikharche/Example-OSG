{
 "cells": [
  {
   "cell_type": "code",
   "execution_count": 1,
   "id": "15876ab4-fb7c-4481-869e-278da95ccdb9",
   "metadata": {},
   "outputs": [
    {
     "name": "stdout",
     "output_type": "stream",
     "text": [
      "GET request successful!\n",
      "Tar.gz file downloaded and saved as: cifar-10-python.tar.gz\n"
     ]
    }
   ],
   "source": [
    "import requests\n",
    "\n",
    "token = 'scitokens-admin-create-token'\n",
    "\n",
    "# URL to download the tar.gz file from\n",
    "get_url = 'https://sdsc-origin.nationalresearchplatform.org:8443/nrp/osdf/cifar-10/cifar-10-python.tar.gz'\n",
    "\n",
    "# Headers with Authorization token\n",
    "headers = {\n",
    "    'Authorization': 'Bearer ' + token,\n",
    "    'Content-Type': 'application/json'\n",
    "}\n",
    "\n",
    "# Function to perform GET request and download tar.gz file\n",
    "def perform_get_request(url, headers, output_file):\n",
    "    try:\n",
    "        with requests.get(url, headers=headers, stream=True) as response:\n",
    "            # Check if request was successful\n",
    "            if response.status_code == 200:\n",
    "                print('GET request successful!')\n",
    "\n",
    "                # Save response content to file\n",
    "                with open(output_file, 'wb') as f:\n",
    "                    for chunk in response.iter_content(chunk_size=8192):\n",
    "                        f.write(chunk)\n",
    "                \n",
    "                print(f'Tar.gz file downloaded and saved as: {output_file}')\n",
    "            else:\n",
    "                print(f'GET request failed: {response.status_code}')\n",
    "                print('Response:')\n",
    "                print(response.text)\n",
    "\n",
    "    except requests.exceptions.RequestException as e:\n",
    "        print('GET request failed:', e)\n",
    "\n",
    "# Specify where to save the downloaded tar.gz file\n",
    "output_file = 'cifar-10-python.tar.gz'\n",
    "\n",
    "# Perform GET request and download the tar.gz file\n",
    "perform_get_request(get_url, headers, output_file)"
   ]
  },
  {
   "cell_type": "code",
   "execution_count": null,
   "id": "f691a990",
   "metadata": {},
   "outputs": [],
   "source": []
  }
 ],
 "metadata": {
  "kernelspec": {
   "display_name": "Python 3 (ipykernel)",
   "language": "python",
   "name": "python3"
  },
  "language_info": {
   "codemirror_mode": {
    "name": "ipython",
    "version": 3
   },
   "file_extension": ".py",
   "mimetype": "text/x-python",
   "name": "python",
   "nbconvert_exporter": "python",
   "pygments_lexer": "ipython3",
   "version": "3.10.7"
  }
 },
 "nbformat": 4,
 "nbformat_minor": 5
}
